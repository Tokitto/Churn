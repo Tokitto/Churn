{
 "cells": [
  {
   "cell_type": "markdown",
   "metadata": {},
   "source": [
    "# Peer-graded Assignment: Подготовка данных для построения модели\n",
    "\n",
    "На прошлой неделе мы познакомились с задачей и данными. Пора задуматься о том, с какими особенностями и трудностями нам предстоит работать в процессе построения модели прогнозирования оттока. Как может сказаться на качестве модели то, что данные не сбалансированы по классам? Какие метрики качества подходят в таких случаях? Каким будет KPI? Как организовать процесс оценки решения с помощью кросс-валидации, какую схему выбрать? Как следует обрабатывать данные разного типа (например, категориальные) для того, чтобы использовать их при построении модели? На все эти вопросы нам предстоит ответить на этой неделе.\n",
    "\n",
    "## Инструкции\n",
    "\n",
    "__Вопрос 1.__   \n",
    "Начнем с простого, но важного шага. Отделите небольшую выборку от существующих данных. Назовем её hold-out dataset. Эта выборка нужна для контроля качества решения: она не должна использоваться вплоть до контроля качества решения. Наличие такой выборки поможет убедиться, что в процессе моделирования не было допущено ошибок, не произошло переобучение. В качестве ответа загрузите полученный файл (или файлы, если вы работаете а данными и метками как с 2мя файлами)\n"
   ]
  },
  {
   "cell_type": "code",
   "execution_count": 17,
   "metadata": {},
   "outputs": [],
   "source": [
    "import pandas as pd\n",
    "import numpy as np\n",
    "import matplotlib as plt\n",
    "from sklearn import model_selection as ms\n",
    "import csv"
   ]
  },
  {
   "cell_type": "code",
   "execution_count": 18,
   "metadata": {
    "scrolled": true
   },
   "outputs": [
    {
     "name": "stdout",
     "output_type": "stream",
     "text": [
      "Populating the interactive namespace from numpy and matplotlib\n"
     ]
    }
   ],
   "source": [
    "%pylab inline"
   ]
  },
  {
   "cell_type": "code",
   "execution_count": 19,
   "metadata": {},
   "outputs": [],
   "source": [
    "data_all = pd.read_csv('orange_small_churn_data.txt', sep=',')\n",
    "labels_all = pd.read_csv('orange_small_churn_labels.txt', sep=',', header=None, names=['Class'])"
   ]
  },
  {
   "cell_type": "code",
   "execution_count": 20,
   "metadata": {},
   "outputs": [],
   "source": [
    "data_train = pd.concat((data_all, labels_all), axis=1)"
   ]
  },
  {
   "cell_type": "markdown",
   "metadata": {},
   "source": [
    "Понятно, что нам надо \"откусить\" какую-то часть от данных. Возникает два основных вопроса - во-первых, сколько \"откусывать\", во-вторых, откуда именно. \n",
    "\n",
    "По поводу сколько - возьмем 33% - данных у нас достаточно много, можно не мелочиться. \n",
    "\n",
    "Для того, чтобы понять, откуда, надо посмотреть на данные. Если они хорошо перемешаны, то можно взять из хвоста, например. Если плохо - лучше испрользовать средства перемешивания данных."
   ]
  },
  {
   "cell_type": "code",
   "execution_count": 21,
   "metadata": {},
   "outputs": [
    {
     "data": {
      "text/plain": [
       "<Container object of 134 artists>"
      ]
     },
     "execution_count": 21,
     "metadata": {},
     "output_type": "execute_result"
    },
    {
     "data": {
      "image/png": "[encoded data removed]",
      "text/plain": [
       "<matplotlib.figure.Figure at 0x11c70198>"
      ]
     },
     "metadata": {},
     "output_type": "display_data"
    }
   ],
   "source": [
    "#хорошо бы посмотреть, насколько равномерно перемешаны данные, нет ли где-нибудь преобладания -1 или 1\n",
    "#данных много, поэтому разобьем их на на карманты по 300 объектов и посмотрим на график средних по ним\n",
    "#(200 взято эмпирическии, если карманы уже, то график слишком рябит, если шире, то сильне теряем информацию)\n",
    "labels_bins = labels_all.copy()\n",
    "labels_bins['bin'] = [int(np.floor(x/300.0)) for x in labels_bins.index.values]\n",
    "labels_bin_groups = labels_bins.groupby(by=['bin'], as_index=False).mean()\n",
    "\n",
    "plt.figure(1, (15,5))\n",
    "plt.bar(range(0,labels_bin_groups.shape[0]), labels_bin_groups['Class'].values, color='Green')    "
   ]
  },
  {
   "cell_type": "markdown",
   "metadata": {},
   "source": [
    "Вывод, которые можно сделать по графику - данные хорошо перемешаны, не видно каких-то особых областей. Берем 33% из хвоста."
   ]
  },
  {
   "cell_type": "code",
   "execution_count": 12,
   "metadata": {
    "scrolled": false
   },
   "outputs": [
    {
     "data": {
      "text/html": [
       "<div>\n",
       "<style scoped>\n",
       "    .dataframe tbody tr th:only-of-type {\n",
       "        vertical-align: middle;\n",
       "    }\n",
       "\n",
       "    .dataframe tbody tr th {\n",
       "        vertical-align: top;\n",
       "    }\n",
       "\n",
       "    .dataframe thead th {\n",
       "        text-align: right;\n",
       "    }\n",
       "</style>\n",
       "<table border=\"1\" class=\"dataframe\">\n",
       "  <thead>\n",
       "    <tr style=\"text-align: right;\">\n",
       "      <th></th>\n",
       "      <th>Var1</th>\n",
       "      <th>Var2</th>\n",
       "      <th>Var3</th>\n",
       "      <th>Var4</th>\n",
       "      <th>Var5</th>\n",
       "      <th>Var6</th>\n",
       "      <th>Var7</th>\n",
       "      <th>Var8</th>\n",
       "      <th>Var9</th>\n",
       "      <th>Var10</th>\n",
       "      <th>...</th>\n",
       "      <th>Var221</th>\n",
       "      <th>Var222</th>\n",
       "      <th>Var223</th>\n",
       "      <th>Var224</th>\n",
       "      <th>Var225</th>\n",
       "      <th>Var226</th>\n",
       "      <th>Var227</th>\n",
       "      <th>Var228</th>\n",
       "      <th>Var229</th>\n",
       "      <th>Var230</th>\n",
       "    </tr>\n",
       "  </thead>\n",
       "  <tbody>\n",
       "    <tr>\n",
       "      <th>0</th>\n",
       "      <td>NaN</td>\n",
       "      <td>NaN</td>\n",
       "      <td>NaN</td>\n",
       "      <td>NaN</td>\n",
       "      <td>NaN</td>\n",
       "      <td>3052.0</td>\n",
       "      <td>NaN</td>\n",
       "      <td>NaN</td>\n",
       "      <td>NaN</td>\n",
       "      <td>NaN</td>\n",
       "      <td>...</td>\n",
       "      <td>Al6ZaUT</td>\n",
       "      <td>vr93T2a</td>\n",
       "      <td>LM8l689qOp</td>\n",
       "      <td>NaN</td>\n",
       "      <td>NaN</td>\n",
       "      <td>fKCe</td>\n",
       "      <td>02N6s8f</td>\n",
       "      <td>xwM2aC7IdeMC0</td>\n",
       "      <td>NaN</td>\n",
       "      <td>NaN</td>\n",
       "    </tr>\n",
       "    <tr>\n",
       "      <th>1</th>\n",
       "      <td>NaN</td>\n",
       "      <td>NaN</td>\n",
       "      <td>NaN</td>\n",
       "      <td>NaN</td>\n",
       "      <td>NaN</td>\n",
       "      <td>1813.0</td>\n",
       "      <td>7.0</td>\n",
       "      <td>NaN</td>\n",
       "      <td>NaN</td>\n",
       "      <td>NaN</td>\n",
       "      <td>...</td>\n",
       "      <td>oslk</td>\n",
       "      <td>6hQ9lNX</td>\n",
       "      <td>LM8l689qOp</td>\n",
       "      <td>NaN</td>\n",
       "      <td>ELof</td>\n",
       "      <td>xb3V</td>\n",
       "      <td>RAYp</td>\n",
       "      <td>55YFVY9</td>\n",
       "      <td>mj86</td>\n",
       "      <td>NaN</td>\n",
       "    </tr>\n",
       "    <tr>\n",
       "      <th>2</th>\n",
       "      <td>NaN</td>\n",
       "      <td>NaN</td>\n",
       "      <td>NaN</td>\n",
       "      <td>NaN</td>\n",
       "      <td>NaN</td>\n",
       "      <td>1953.0</td>\n",
       "      <td>7.0</td>\n",
       "      <td>NaN</td>\n",
       "      <td>NaN</td>\n",
       "      <td>NaN</td>\n",
       "      <td>...</td>\n",
       "      <td>zCkv</td>\n",
       "      <td>catzS2D</td>\n",
       "      <td>LM8l689qOp</td>\n",
       "      <td>NaN</td>\n",
       "      <td>NaN</td>\n",
       "      <td>FSa2</td>\n",
       "      <td>ZI9m</td>\n",
       "      <td>ib5G6X1eUxUn6</td>\n",
       "      <td>mj86</td>\n",
       "      <td>NaN</td>\n",
       "    </tr>\n",
       "    <tr>\n",
       "      <th>3</th>\n",
       "      <td>NaN</td>\n",
       "      <td>NaN</td>\n",
       "      <td>NaN</td>\n",
       "      <td>NaN</td>\n",
       "      <td>NaN</td>\n",
       "      <td>1533.0</td>\n",
       "      <td>7.0</td>\n",
       "      <td>NaN</td>\n",
       "      <td>NaN</td>\n",
       "      <td>NaN</td>\n",
       "      <td>...</td>\n",
       "      <td>oslk</td>\n",
       "      <td>e4lqvY0</td>\n",
       "      <td>LM8l689qOp</td>\n",
       "      <td>NaN</td>\n",
       "      <td>NaN</td>\n",
       "      <td>xb3V</td>\n",
       "      <td>RAYp</td>\n",
       "      <td>F2FyR07IdsN7I</td>\n",
       "      <td>NaN</td>\n",
       "      <td>NaN</td>\n",
       "    </tr>\n",
       "    <tr>\n",
       "      <th>4</th>\n",
       "      <td>NaN</td>\n",
       "      <td>NaN</td>\n",
       "      <td>NaN</td>\n",
       "      <td>NaN</td>\n",
       "      <td>NaN</td>\n",
       "      <td>686.0</td>\n",
       "      <td>7.0</td>\n",
       "      <td>NaN</td>\n",
       "      <td>NaN</td>\n",
       "      <td>NaN</td>\n",
       "      <td>...</td>\n",
       "      <td>oslk</td>\n",
       "      <td>MAz3HNj</td>\n",
       "      <td>LM8l689qOp</td>\n",
       "      <td>NaN</td>\n",
       "      <td>NaN</td>\n",
       "      <td>WqMG</td>\n",
       "      <td>RAYp</td>\n",
       "      <td>F2FyR07IdsN7I</td>\n",
       "      <td>NaN</td>\n",
       "      <td>NaN</td>\n",
       "    </tr>\n",
       "  </tbody>\n",
       "</table>\n",
       "<p>5 rows × 230 columns</p>\n",
       "</div>"
      ],
      "text/plain": [
       "   Var1  Var2  Var3  Var4  Var5    Var6  Var7  Var8  Var9  Var10   ...    \\\n",
       "0   NaN   NaN   NaN   NaN   NaN  3052.0   NaN   NaN   NaN    NaN   ...     \n",
       "1   NaN   NaN   NaN   NaN   NaN  1813.0   7.0   NaN   NaN    NaN   ...     \n",
       "2   NaN   NaN   NaN   NaN   NaN  1953.0   7.0   NaN   NaN    NaN   ...     \n",
       "3   NaN   NaN   NaN   NaN   NaN  1533.0   7.0   NaN   NaN    NaN   ...     \n",
       "4   NaN   NaN   NaN   NaN   NaN   686.0   7.0   NaN   NaN    NaN   ...     \n",
       "\n",
       "    Var221   Var222      Var223  Var224  Var225  Var226   Var227  \\\n",
       "0  Al6ZaUT  vr93T2a  LM8l689qOp     NaN     NaN    fKCe  02N6s8f   \n",
       "1     oslk  6hQ9lNX  LM8l689qOp     NaN    ELof    xb3V     RAYp   \n",
       "2     zCkv  catzS2D  LM8l689qOp     NaN     NaN    FSa2     ZI9m   \n",
       "3     oslk  e4lqvY0  LM8l689qOp     NaN     NaN    xb3V     RAYp   \n",
       "4     oslk  MAz3HNj  LM8l689qOp     NaN     NaN    WqMG     RAYp   \n",
       "\n",
       "          Var228  Var229  Var230  \n",
       "0  xwM2aC7IdeMC0     NaN     NaN  \n",
       "1        55YFVY9    mj86     NaN  \n",
       "2  ib5G6X1eUxUn6    mj86     NaN  \n",
       "3  F2FyR07IdsN7I     NaN     NaN  \n",
       "4  F2FyR07IdsN7I     NaN     NaN  \n",
       "\n",
       "[5 rows x 230 columns]"
      ]
     },
     "execution_count": 12,
     "metadata": {},
     "output_type": "execute_result"
    }
   ],
   "source": [
    "data_all.head()"
   ]
  },
  {
   "cell_type": "code",
   "execution_count": 26,
   "metadata": {
    "scrolled": true
   },
   "outputs": [
    {
     "name": "stdout",
     "output_type": "stream",
     "text": [
      "       Var1  Var2  Var3  Var4  Var5     Var6  Var7  Var8  Var9      Var10  \\\n",
      "17934   NaN   0.0   0.0   NaN   NaN      NaN   NaN   NaN   NaN        NaN   \n",
      "15809   NaN   NaN   NaN   0.0   NaN      NaN   NaN   NaN   NaN        NaN   \n",
      "29947   NaN   NaN   NaN   NaN   NaN   2401.0   0.0   NaN   NaN        NaN   \n",
      "34468   NaN   NaN   NaN   NaN   NaN    889.0   7.0   NaN   NaN        NaN   \n",
      "2172    NaN   NaN   NaN   NaN   NaN   1267.0  14.0   NaN   NaN        NaN   \n",
      "28280   NaN   NaN   NaN   NaN   NaN    665.0  14.0   NaN   NaN        NaN   \n",
      "33      NaN   NaN   NaN   NaN   NaN    896.0   7.0   NaN   NaN        NaN   \n",
      "28535   NaN   NaN   NaN   NaN   NaN    770.0   0.0   NaN   NaN        NaN   \n",
      "35908   NaN   NaN   NaN   NaN   NaN   1001.0   7.0   NaN   NaN        NaN   \n",
      "1949    NaN   NaN   NaN   NaN   NaN   1218.0   7.0   NaN   NaN        NaN   \n",
      "12266   NaN   NaN   NaN   NaN   NaN    371.0   0.0   NaN   NaN        NaN   \n",
      "19775   NaN   0.0   0.0   NaN   NaN      NaN   NaN   NaN   NaN        NaN   \n",
      "17651   NaN   NaN   NaN   NaN   NaN    686.0   7.0   NaN   NaN        NaN   \n",
      "38910   NaN   NaN   NaN   NaN   NaN   1267.0   7.0   NaN   NaN        NaN   \n",
      "9574    NaN   NaN   NaN   NaN   NaN   5453.0  21.0   NaN   NaN        NaN   \n",
      "35788   NaN   NaN   NaN   NaN   NaN      0.0   7.0   NaN   NaN        NaN   \n",
      "4112    NaN   NaN   NaN   NaN   NaN   1260.0   7.0   NaN   NaN        NaN   \n",
      "2642    NaN   NaN   NaN   NaN   NaN    728.0   7.0   NaN   NaN        NaN   \n",
      "5159    NaN   0.0   0.0   NaN   NaN      NaN   NaN   NaN   NaN        NaN   \n",
      "32924   NaN   NaN   NaN   NaN   NaN   1043.0  14.0   NaN   NaN        NaN   \n",
      "6164    NaN   NaN   NaN   NaN   NaN   1253.0   7.0   NaN   NaN        NaN   \n",
      "36184   NaN   NaN   NaN   NaN   0.0      NaN   NaN   NaN   NaN        0.0   \n",
      "24653   NaN   NaN   NaN   NaN   NaN    826.0   7.0   NaN   NaN        NaN   \n",
      "3889    NaN   NaN   NaN   NaN   NaN    182.0   0.0   NaN   NaN        NaN   \n",
      "33065   NaN   NaN   NaN   NaN   NaN    245.0   0.0   NaN   NaN        NaN   \n",
      "12552   NaN   NaN   NaN   NaN   NaN    231.0   7.0   NaN   NaN        NaN   \n",
      "21226   NaN   NaN   NaN   NaN   NaN    903.0  14.0   NaN   NaN        NaN   \n",
      "6001    NaN   NaN   NaN   NaN   NaN    889.0   7.0   NaN   NaN        NaN   \n",
      "34176   NaN   NaN   NaN   NaN   0.0      NaN   NaN   NaN   NaN  1717695.0   \n",
      "26323   NaN   NaN   NaN   NaN   NaN  10948.0   7.0   NaN   NaN        NaN   \n",
      "...     ...   ...   ...   ...   ...      ...   ...   ...   ...        ...   \n",
      "4191    NaN   NaN   NaN   NaN   NaN    882.0   0.0   NaN   NaN        NaN   \n",
      "16481   NaN   NaN   NaN   NaN   NaN      NaN   0.0   NaN   NaN        NaN   \n",
      "1984    NaN   NaN   NaN   NaN   NaN    469.0   7.0   NaN   NaN        NaN   \n",
      "30683   NaN   NaN   NaN   NaN   NaN    378.0   7.0   NaN   NaN        NaN   \n",
      "23962   0.0   NaN   NaN   NaN   NaN      NaN   NaN   NaN   0.0        NaN   \n",
      "1887    NaN   NaN   NaN   NaN   NaN   1015.0   0.0   NaN   NaN        NaN   \n",
      "8014    NaN   NaN   NaN   NaN   NaN   1435.0   7.0   NaN   NaN        NaN   \n",
      "10310   NaN   NaN   NaN   NaN   NaN    784.0   7.0   NaN   NaN        NaN   \n",
      "4145    NaN   NaN   NaN   NaN   NaN   1092.0  14.0   NaN   NaN        NaN   \n",
      "9418    NaN   NaN   NaN   NaN   NaN    728.0   7.0   NaN   NaN        NaN   \n",
      "12366   NaN   NaN   NaN   NaN   NaN   1883.0   7.0   NaN   NaN        NaN   \n",
      "24187   NaN   NaN   NaN   NaN   NaN   1113.0   7.0   NaN   NaN        NaN   \n",
      "13584   NaN   NaN   NaN   NaN   NaN   3143.0   7.0   NaN   NaN        NaN   \n",
      "96      NaN   NaN   NaN   NaN   NaN    798.0   7.0   NaN   NaN        NaN   \n",
      "22277   NaN   NaN   NaN   NaN   NaN   1162.0   7.0   NaN   NaN        NaN   \n",
      "10980   NaN   NaN   NaN   NaN   NaN   1134.0   7.0   NaN   NaN        NaN   \n",
      "10601   NaN   0.0   0.0   NaN   NaN      NaN   NaN   NaN   NaN        NaN   \n",
      "33896   NaN   NaN   NaN   NaN   NaN    154.0   0.0   NaN   NaN        NaN   \n",
      "3147    NaN   NaN   NaN   NaN   NaN   1134.0   7.0   NaN   NaN        NaN   \n",
      "36982   NaN   NaN   NaN   NaN   NaN   7728.0  21.0   NaN   NaN        NaN   \n",
      "7886    NaN   0.0   0.0   NaN   NaN      NaN   NaN   NaN   NaN        NaN   \n",
      "9292    NaN   NaN   NaN   NaN   NaN   1428.0   7.0   NaN   NaN        NaN   \n",
      "11291   NaN   NaN   NaN   NaN   NaN   3143.0   7.0   NaN   NaN        NaN   \n",
      "32522   NaN   NaN   NaN   NaN   NaN   1316.0   7.0   NaN   NaN        NaN   \n",
      "32687   NaN   NaN   NaN   NaN   NaN    280.0   0.0   NaN   NaN        NaN   \n",
      "22543   NaN   NaN   NaN   NaN   NaN  10087.0   7.0   NaN   NaN        NaN   \n",
      "33426   NaN   NaN   NaN   NaN   NaN    840.0   7.0   NaN   NaN        NaN   \n",
      "5262    NaN   NaN   NaN   NaN   NaN   1106.0  21.0   NaN   NaN        NaN   \n",
      "4600    NaN   NaN   NaN   NaN   NaN   1225.0  14.0   NaN   NaN        NaN   \n",
      "14775   NaN   NaN   NaN   NaN   NaN   2863.0  14.0   NaN   NaN        NaN   \n",
      "\n",
      "        ...     Var221   Var222      Var223  Var224  Var225  Var226   Var227  \\\n",
      "17934   ...       oslk  h2riDjd  LM8l689qOp     NaN     NaN    szEZ     RAYp   \n",
      "15809   ...       oslk  BG5Rt2K         NaN     NaN     NaN    PM2D     RAYp   \n",
      "29947   ...       oslk  NKvz4Af  LM8l689qOp     NaN    kG3k    WqMG     RAYp   \n",
      "34468   ...       oslk  EXUR6zD  LM8l689qOp     NaN    ELof    453m     RAYp   \n",
      "2172    ...    d0EEeJi  savS4bQ  LM8l689qOp     NaN    xG3x    TNEC  nIGXDli   \n",
      "28280   ...       zCkv  catzS2D  LM8l689qOp     NaN    xG3x    3Cy4     ZI9m   \n",
      "33      ...       oslk  hCeC7lX  LM8l689qOp     NaN     NaN    FSa2     RAYp   \n",
      "28535   ...       oslk  G6quVxn  jySVZNlOJy     NaN    ELof    Qu4f     RAYp   \n",
      "35908   ...       oslk  ag5iNPX  LM8l689qOp     NaN     NaN    fKCe     RAYp   \n",
      "1949    ...       oslk  MM1zrB7  jySVZNlOJy     NaN    kG3k    WqMG     RAYp   \n",
      "12266   ...       oslk  nXK9h3w  LM8l689qOp     NaN     NaN    453m     RAYp   \n",
      "19775   ...       oslk  MgStYcI  LM8l689qOp     NaN     NaN    PM2D     RAYp   \n",
      "17651   ...       oslk  serQJQm  LM8l689qOp     NaN     NaN    FSa2     RAYp   \n",
      "38910   ...    d0EEeJi  9FtSdpm  LM8l689qOp     NaN    kG3k    uWr3  nIGXDli   \n",
      "9574    ...       zCkv  APgdzOv     bCPvVye     NaN    kG3k    WqMG     6fzt   \n",
      "35788   ...    JIiEFBU  MU1WdES         NaN     NaN    ELof    453m  nIGjgSB   \n",
      "4112    ...       oslk  nKcTL5Q  jySVZNlOJy     NaN    kG3k    5Acm     RAYp   \n",
      "2642    ...       zCkv  K2SqEo9  LM8l689qOp     NaN     NaN    szEZ     6fzt   \n",
      "5159    ...       oslk  CW6RDbC  LM8l689qOp     NaN     NaN    7P5s     RAYp   \n",
      "32924   ...       oslk  Z16AAUb  LM8l689qOp     NaN    ELof    Aoh3     RAYp   \n",
      "6164    ...       oslk  r7xOEra  LM8l689qOp     NaN    kG3k    rgKb     RAYp   \n",
      "36184   ...       oslk  ZXdOTZB         NaN     NaN     NaN    fKCe     RAYp   \n",
      "24653   ...       oslk  2Kb5FSF  LM8l689qOp     NaN     NaN    xb3V     RAYp   \n",
      "3889    ...       oslk  _8W0zM1  LM8l689qOp     NaN     NaN    WqMG     RAYp   \n",
      "33065   ...       oslk  2HJE4Qn  jySVZNlOJy     NaN    kG3k    FSa2     RAYp   \n",
      "12552   ...       oslk  B6Rzgmc  jySVZNlOJy     NaN     NaN    7P5s     RAYp   \n",
      "21226   ...       oslk  PrQYAUb  jySVZNlOJy     NaN    kG3k    WqMG     RAYp   \n",
      "6001    ...       oslk  9BAMCCr  LM8l689qOp     NaN     NaN    5Acm     RAYp   \n",
      "34176   ...       zCkv  xCC4cae         NaN     NaN     NaN    kwS7     6fzt   \n",
      "26323   ...       oslk  X86AgOW  LM8l689qOp     NaN     NaN    3Cy4     RAYp   \n",
      "...     ...        ...      ...         ...     ...     ...     ...      ...   \n",
      "4191    ...       oslk  bSgltRa  LM8l689qOp     NaN     NaN    xb3V     RAYp   \n",
      "16481   ...    d0EEeJi  rV_njE2  LM8l689qOp     NaN     NaN    Aoh3  02N6s8f   \n",
      "1984    ...       oslk  2u6AIRG  LM8l689qOp     NaN    ELof    453m     RAYp   \n",
      "30683   ...    d0EEeJi  xT68qm9  LM8l689qOp     NaN    ELof    7P5s  nIGXDli   \n",
      "23962   ...       oslk  3B1mC_N  LM8l689qOp     NaN     NaN    453m     RAYp   \n",
      "1887    ...       oslk  JD1lw9w  LM8l689qOp     NaN     NaN    Qu4f     RAYp   \n",
      "8014    ...       zCkv  kiBRltV  jySVZNlOJy     NaN    ELof    FSa2     6fzt   \n",
      "10310   ...       oslk  N8wTzYj  LM8l689qOp     NaN    kG3k    FSa2     RAYp   \n",
      "4145    ...       oslk  ZjpR6zD  LM8l689qOp     NaN     NaN    Xa3G     RAYp   \n",
      "9418    ...    d0EEeJi  EHCegO_  jySVZNlOJy     NaN     NaN    PM2D  nIGXDli   \n",
      "12366   ...       zCkv  APgdzOv  jySVZNlOJy     NaN    ELof    szEZ     6fzt   \n",
      "24187   ...       oslk  ZTFuPzF  LM8l689qOp     NaN    kG3k    Qcbd     RAYp   \n",
      "13584   ...       oslk  YFaA9vx  jySVZNlOJy     NaN    ELof    Aoh3     RAYp   \n",
      "96      ...       oslk  catzS2D  jySVZNlOJy     NaN     NaN    xb3V     ZI9m   \n",
      "22277   ...       oslk  6l0qqb8  LM8l689qOp     NaN     NaN    WqMG     RAYp   \n",
      "10980   ...       oslk  aFcwIB5  LM8l689qOp     NaN    ELof    453m     RAYp   \n",
      "10601   ...       oslk  r3oreV4  LM8l689qOp    4n2X     NaN    Qu4f     RAYp   \n",
      "33896   ...       oslk  rDbG_aX  LM8l689qOp     NaN     NaN    xb3V     ZI9m   \n",
      "3147    ...       zCkv  APgdzOv  LM8l689qOp     NaN     NaN    WqMG     6fzt   \n",
      "36982   ...       oslk  hxsKvPi  LM8l689qOp     NaN    ELof    FSa2     RAYp   \n",
      "7886    ...       zCkv  UpJuOS_  LM8l689qOp    4n2X     NaN    kwS7     6fzt   \n",
      "9292    ...       oslk  9iFWDFK  LM8l689qOp     NaN    kG3k    WqMG     RAYp   \n",
      "11291   ...       zCkv  catzS2D  LM8l689qOp     NaN    kG3k    WqMG     ZI9m   \n",
      "32522   ...       oslk  o6f7A2G  jySVZNlOJy     NaN    ELof    FSa2     RAYp   \n",
      "32687   ...       oslk  1E9D3Yd  LM8l689qOp     NaN     NaN    5Acm     RAYp   \n",
      "22543   ...    d0EEeJi  neGRAzx  LM8l689qOp     NaN     NaN    Qu4f  nIGXDli   \n",
      "33426   ...       oslk  6iNOEra  LM8l689qOp     NaN     NaN    wX53     RAYp   \n",
      "5262    ...    Al6ZaUT  catzS2D  LM8l689qOp     NaN    kG3k    FSa2     ZI9m   \n",
      "4600    ...       oslk  ilgAGfT  LM8l689qOp     NaN    ELof    3Cy4     RAYp   \n",
      "14775   ...       oslk  yktAIRG        M_8D     NaN    kG3k    FSa2     RAYp   \n",
      "\n",
      "                       Var228  Var229  Var230  \n",
      "17934           F2FyR07IdsN7I     NaN     NaN  \n",
      "15809           F2FyR07IdsN7I     NaN     NaN  \n",
      "29947           F2FyR07IdsN7I     NaN     NaN  \n",
      "34468                 55YFVY9     NaN     NaN  \n",
      "2172            F2FyR07IdsN7I    mj86     NaN  \n",
      "28280                    VjDE    am7c     NaN  \n",
      "33              F2FyR07IdsN7I     NaN     NaN  \n",
      "28535           F2FyR07IdsN7I     NaN     NaN  \n",
      "35908           F2FyR07IdsN7I     NaN     NaN  \n",
      "1949            F2FyR07IdsN7I    mj86     NaN  \n",
      "12266           F2FyR07IdsN7I     NaN     NaN  \n",
      "19775           F2FyR07IdsN7I     NaN     NaN  \n",
      "17651           F2FyR07IdsN7I     NaN     NaN  \n",
      "38910           F2FyR07IdsN7I    am7c     NaN  \n",
      "9574                  Zy3gnGM    am7c     NaN  \n",
      "35788              iyHGyLCEkQ     NaN     NaN  \n",
      "4112                  55YFVY9    mj86     NaN  \n",
      "2642   am14IcfM7tWLrUmRT52KtA     NaN     NaN  \n",
      "5159            F2FyR07IdsN7I     NaN     NaN  \n",
      "32924           F2FyR07IdsN7I    mj86     NaN  \n",
      "6164            F2FyR07IdsN7I    am7c     NaN  \n",
      "36184           F2FyR07IdsN7I     NaN     NaN  \n",
      "24653           F2FyR07IdsN7I     NaN     NaN  \n",
      "3889            F2FyR07IdsN7I     NaN     NaN  \n",
      "33065           F2FyR07IdsN7I     NaN     NaN  \n",
      "12552                 55YFVY9     NaN     NaN  \n",
      "21226           F2FyR07IdsN7I     NaN     NaN  \n",
      "6001            F2FyR07IdsN7I    mj86     NaN  \n",
      "34176           xwM2aC7IdeMC0     NaN     NaN  \n",
      "26323           F2FyR07IdsN7I     NaN     NaN  \n",
      "...                       ...     ...     ...  \n",
      "4191            F2FyR07IdsN7I     NaN     NaN  \n",
      "16481           F2FyR07IdsN7I     NaN     NaN  \n",
      "1984            F2FyR07IdsN7I    am7c     NaN  \n",
      "30683           F2FyR07IdsN7I    mj86     NaN  \n",
      "23962           F2FyR07IdsN7I     NaN     NaN  \n",
      "1887            F2FyR07IdsN7I     NaN     NaN  \n",
      "8014                  Zy3gnGM    am7c     NaN  \n",
      "10310           F2FyR07IdsN7I    mj86     NaN  \n",
      "4145            F2FyR07IdsN7I     NaN     NaN  \n",
      "9418            F2FyR07IdsN7I     NaN     NaN  \n",
      "12366                 Zy3gnGM    mj86     NaN  \n",
      "24187                 55YFVY9    am7c     NaN  \n",
      "13584                 55YFVY9    mj86     NaN  \n",
      "96              ib5G6X1eUxUn6    mj86     NaN  \n",
      "22277           F2FyR07IdsN7I    mj86     NaN  \n",
      "10980           F2FyR07IdsN7I     NaN     NaN  \n",
      "10601           F2FyR07IdsN7I     NaN     NaN  \n",
      "33896           F2FyR07IdsN7I     NaN     NaN  \n",
      "3147                  Zy3gnGM    am7c     NaN  \n",
      "36982           F2FyR07IdsN7I    mj86     NaN  \n",
      "7886            F2FcTt7IdMT_v     NaN     NaN  \n",
      "9292            F2FyR07IdsN7I    mj86     NaN  \n",
      "11291           ib5G6X1eUxUn6    am7c     NaN  \n",
      "32522           F2FyR07IdsN7I     NaN     NaN  \n",
      "32687           F2FyR07IdsN7I     NaN     NaN  \n",
      "22543           F2FyR07IdsN7I     NaN     NaN  \n",
      "33426           F2FyR07IdsN7I     NaN     NaN  \n",
      "5262            F2FcTt7IdMT_v    am7c     NaN  \n",
      "4600            F2FyR07IdsN7I     NaN     NaN  \n",
      "14775                 55YFVY9    am7c     NaN  \n",
      "\n",
      "[26800 rows x 230 columns]\n"
     ]
    }
   ],
   "source": [
    "X_train, X_test, y_train, y_test = ms.train_test_split(data_all, labels_all, test_size = 0.33\n",
    "                                                       ,random_state = 0, shuffle=True, stratify=labels_all)\n",
    "print X_train"
   ]
  },
  {
   "cell_type": "code",
   "execution_count": 27,
   "metadata": {},
   "outputs": [],
   "source": [
    "train_data = pd.concat((X_train, y_train), axis=1)\n",
    "test_data = pd.concat((X_test, y_test), axis=1)"
   ]
  },
  {
   "cell_type": "code",
   "execution_count": 28,
   "metadata": {},
   "outputs": [],
   "source": [
    "train_data.to_csv('orange_small_churn_traintest.csv', index=False)\n",
    "test_data.to_csv('orange_small_churn_holdout.csv', index=False)"
   ]
  },
  {
   "cell_type": "markdown",
   "metadata": {},
   "source": [
    "__Вопрос 2.__   \n",
    "Подумайте и предложите несколько способов (не менее 3х) обработки категориальных признаков, для того, чтобы их можно было использовать при построении модели. Обратите внимание на модуль sklearn.preprocessing. Начать поиски можно с sklearn.preprocessing.OneHotEncoder."
   ]
  },
  {
   "cell_type": "markdown",
   "metadata": {},
   "source": [
    "Математические модели, которые мы, как правило, используем в классификации, предолагают, что мы имеем дело с числовыми признаками. Поэтому встает вопрос, как преобразовать категориальные признаки в числовые. Рассмотрим несколько способов.\n",
    "\n",
    "2.1. Первый способ, превратить категориальные значения в числовые - это преобразовать один признак в N новых, где N - количество уникальных значений рассматриваемого категориального признака. Сделать это можно с помощью функции sklearn.preprocessing.OneHotEncoder. \n",
    "\n",
    "Основной проблемой этого подхода является то, что в случае значительного количества уникальных значений признака, количество столбцов становится громадным, что затрудняет работу с такой моделью. Еще одним минусом является то, что новые значения мы никак не учтем, но в нашем случае это можно не рассматривать, поскольку задачи учитывать значения из будущего перед нами не ставится.\n",
    "\n",
    "2.2. Второй способ, это \"пересчитать\" значения и заменить их на получившиеся порядковые номера. Сделать это можно при помощи sklearn.preprocessing.LabelEncoder. Тут так же есть проблема с новыми значениями, но есть и другая достаточно серьезная проблема - нумеруя значения, мы определяем порядок в них, а также вводим некоторое \"расстояние\" между ними. Линейные модели могут учесть такие расстояния, а реально смысла в них никакого нет, что негативно скажется на качестве модели. \n",
    "\n",
    "2.3. Третий способ, - использовать хэш-функции (hashing trick). То есть когда для каждого значения признака мы рассчитываем хэш-функцию. Из плюслов - неизвестные новые значения не приведут к краху модели. Правда, числовые расстояния между значениями по-прежнему смысла иметь не будут.\n",
    "\n",
    "2.4. Четвертый способ - sklearn.feature_extraction.DictVectorizer. Класс позволяет представить уникальные сочетания разных признаков набором столбцов {0,1}. В этом случае количество необходимых столбцов намного меньше, чем в OneHotEncoder, и не возникает ненужных \"расстояний\" с сомнительным смыслом (а точнее, без оного). Однако для текстовых столбцов результат его применения равен OneHotEncoder, только можно обойтись без предварительного применения LabelEncoder."
   ]
  },
  {
   "cell_type": "markdown",
   "metadata": {},
   "source": [
    "__Вопрос 3.__   \n",
    "Подумайте, с помощью какой метрики качества лучше всего оценивать качество будущей модели, какой будет ключевая метрика качества? Поясните свой выбор."
   ]
  },
  {
   "cell_type": "markdown",
   "metadata": {},
   "source": [
    "В случае использования моделей с вероятностью принадлежности к классу, придется выбирать порог t, который будет определять принятие оттока для значений выше t. Для того, чтобы оптимизировать модели по этому параметру следует строить кривые ROC и PR и анализировать показатели ROC-AUC и PR-AUC. Можно также посмотреть на логистическую функцию потерь, но она сильно штрафует за уверенный неверный ответ, а в нашем случае ничего страшного в том, чтобы добавить \"лишнего\" клиента в группу, нет. По крайней мере, я так это понимаю (лучше проработать клиента по ошибке, чем упустить потенциально уходящего клиента)."
   ]
  },
  {
   "cell_type": "markdown",
   "metadata": {},
   "source": [
    "__Вопрос 4.__   Какие вспомогательные метрики качества имеет смысл считать, чтобы более полно оценить качество модели, понять, где её слабые стороны и что нужно улучшать?"
   ]
  },
  {
   "cell_type": "markdown",
   "metadata": {},
   "source": [
    "\n",
    "Мы имеем дело с задачей классификации, поэтому естественно оценивать качество модели тем, правильно ли мы \"угадали\" класс. В принципе, есть только 4 возможных варианта (True Positive, False Positive,True Negative,False Negative). Базовой метрикой качества в этом случае является accuracy, то есть доля верных ответов, но она сильно зависит от сбалансированности классов и в нашем случае неприменима.\n",
    "\n",
    "Далее следует рассмотреть точность precision (точность) - доля правильно предсказанных оттоков из общего количества предсказанных оттоков. Еще одной метрикой является полнота (recall), т.е. сколько мы угадали оттоков из общего числа оттоков. Есть ситуации, в которых precision и recall по отдельности дают не лучшие результаты, поэтому можно использовать F-меру - комбинацию precision и recall. В принципе, это то, что нам надо (ключевая метрика качества)."
   ]
  },
  {
   "cell_type": "markdown",
   "metadata": {
    "collapsed": true
   },
   "source": [
    "__Вопрос 5.__ Подберите оптимальную стратегию проведения кросс-валидации: решите, на сколько фолдов вы будете делить выборку? Выберите тип разбиения данных (k-fold, stratified k-fold, shuffle split, leave one out). Поясните ваш выбор."
   ]
  },
  {
   "cell_type": "markdown",
   "metadata": {},
   "source": [
    "Очень часто в реализации по умолчанию идет разбиение на 3 фолда. Данных достаточно много, поэтому смысла делить на большее количество я не вижу. Далее о типах. Лучше всего подходит Stratified K-Fold, т.к. этот метод обеспечивает сохранение пропорции классов в фолдах, что как раз подходит для задач классификации. Leave one out предназначен для небольших наборов (требует большого числа проверок). ShuffleSplit предпочтительнее k-fold на больших выборках, т.к. позволяет проверять модель не сразу на всем объеме данных. Но в нашем случае мы уже выбрали наиболее предпочтительный вариант."
   ]
  },
  {
   "cell_type": "code",
   "execution_count": null,
   "metadata": {
    "collapsed": true
   },
   "outputs": [],
   "source": []
  }
 ],
 "metadata": {
  "kernelspec": {
   "display_name": "Python 2",
   "language": "python",
   "name": "python2"
  },
  "language_info": {
   "codemirror_mode": {
    "name": "ipython",
    "version": 2
   },
   "file_extension": ".py",
   "mimetype": "text/x-python",
   "name": "python",
   "nbconvert_exporter": "python",
   "pygments_lexer": "ipython2",
   "version": "2.7.14"
  }
 },
 "nbformat": 4,
 "nbformat_minor": 2
}
