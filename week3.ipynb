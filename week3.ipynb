{
 "cells": [
  {
   "cell_type": "markdown",
   "metadata": {},
   "source": [
    "# Peer-graded Assignment: Построение baseline-решений"
   ]
  },
  {
   "cell_type": "markdown",
   "metadata": {},
   "source": [
    "В этом задании вам предстоит построить несколько моделей и оценить их качество. Эти модели будут служить нам в качестве baseline-решений и пригодятся сразу для нескольких задач:\n",
    "\n",
    "Во-первых, на разработку baseline-модели не должно уходить много времени (это требование исходит из оценок затрат на проект в целом - большую часть времени все же нужно потратить на основное решение), процесс должен быть простым, на подавляющем большинстве этапов должны использоваться готовые протестированные инструменты. Все это приводит к тому, что baseline-модели - это дешевый способ сделать грубую оценку потенциально возможного качества модели, при построении которого вероятность допущения ошибок относительно невелика.\n",
    "Во-вторых, использование моделей разного типа при построении baseline'ов позволяет на раннем этапе сделать предположения о том, какие подходы являются наиболее перспективными и приоритизировать дальнейшие эксперименты.\n",
    "Наличие baseline-моделей позволяет оценить, какой прирост качества дают различные преобразования, усложнения, оптимизации и прочие активности, которые вы предпринимаете для построения финального решения.\n",
    "Наконец, если после построение сложного решения оценка его качества будет очень сильно отличаться от оценки качества baseline-моделей, то это будет хорошим поводом поискать в решении ошибки."
   ]
  },
  {
   "cell_type": "markdown",
   "metadata": {},
   "source": [
    "### Инструкции"
   ]
  },
  {
   "cell_type": "markdown",
   "metadata": {},
   "source": [
    "Обучите 3 разные baseline-модели на полученных наборах данных и оцените их качество. На прошлой неделе вы выбрали методику оценки качества моделей на основе кросс-валидации, а также основную и вспомогательные метрики. Оцените с их помощью получившуюся модель. Обратите внимание, что под разными моделями понимаются именно разные алгоритмы классификации. Например, 2 модели, реализующие метод k ближайших соседей с разными k, будут считаться одним baseline-решением (хотя и с разными параметрами). Напоминаем, что отложенная выборка (hold-out dataset) не должна использоваться для построения и оценки baseline-моделей!\n",
    "\n",
    "Можно (но не обязательно) рассмотреть следующий набор алгоритмов:\n",
    "\n",
    "1. Линейная модель (например, реализация sklearn.linear_model.RidgeClassifier)\n",
    "2. Случайный лес (например, реализация sklearn.ensemble.RandomForestClassifier)\n",
    "3. Градиентный бустинг (например, реализация sklearn.ensemble.GradientBoostingClassifier)\n",
    "\n",
    "В качестве решения приложите получившийся jupyther notebook. Убедитесь, что в нем присутствуют:\n",
    "\n",
    "- все baseline-модели, которые вы построили;\n",
    "- качество всех построенных моделей оценено с помощью кросс-валидации, и это понятно из текста в jupyther notebook;\n",
    "- все модели оценены с помощью основной и дополнительных метрик качества."
   ]
  },
  {
   "cell_type": "markdown",
   "metadata": {},
   "source": [
    "---"
   ]
  },
  {
   "cell_type": "markdown",
   "metadata": {},
   "source": [
    "__Уважаемые коллеги!__ Если есть возможность, большая \n",
    "просьба проверить мою работу по второй неделе, задержался с отправкой.\n",
    "https://www.coursera.org/learn/data-analysis-project/peer/gAgwL/podghotovka-dannykh-dlia-postroieniia-modieli/review/gEASCC0MEeimRhIQTd6iFA"
   ]
  },
  {
   "cell_type": "code",
   "execution_count": 1,
   "metadata": {},
   "outputs": [
    {
     "name": "stderr",
     "output_type": "stream",
     "text": [
      "C:\\Users\\Anton\\Anaconda2\\lib\\site-packages\\sklearn\\cross_validation.py:41: DeprecationWarning: This module was deprecated in version 0.18 in favor of the model_selection module into which all the refactored classes and functions are moved. Also note that the interface of the new CV iterators are different from that of this module. This module will be removed in 0.20.\n",
      "  \"This module will be removed in 0.20.\", DeprecationWarning)\n"
     ]
    }
   ],
   "source": [
    "from sklearn import linear_model as lm\n",
    "from sklearn import ensemble as es\n",
    "from sklearn import feature_extraction as fe #.DictVectorizer\n",
    "from sklearn import cross_validation\n",
    "from sklearn.model_selection import StratifiedKFold,train_test_split,cross_val_score\n",
    "from sklearn.metrics import scorer\n",
    "\n",
    "import pandas as pd\n",
    "import numpy as np\n",
    "import seaborn as sb"
   ]
  },
  {
   "cell_type": "code",
   "execution_count": 2,
   "metadata": {},
   "outputs": [
    {
     "name": "stdout",
     "output_type": "stream",
     "text": [
      "Populating the interactive namespace from numpy and matplotlib\n"
     ]
    }
   ],
   "source": [
    "%pylab inline"
   ]
  },
  {
   "cell_type": "markdown",
   "metadata": {},
   "source": [
    "__Готовим данные__"
   ]
  },
  {
   "cell_type": "code",
   "execution_count": 3,
   "metadata": {},
   "outputs": [],
   "source": [
    "data = pd.read_csv('orange_small_churn_traintest.csv')"
   ]
  },
  {
   "cell_type": "code",
   "execution_count": 4,
   "metadata": {},
   "outputs": [],
   "source": [
    "num_columns = list(data.columns[:190])\n",
    "cat_columns = list(data.columns[190:].drop('Class'))"
   ]
  },
  {
   "cell_type": "code",
   "execution_count": 5,
   "metadata": {
    "scrolled": true
   },
   "outputs": [
    {
     "name": "stdout",
     "output_type": "stream",
     "text": [
      "(26800, 231)\n"
     ]
    },
    {
     "data": {
      "text/html": [
       "<div>\n",
       "<style scoped>\n",
       "    .dataframe tbody tr th:only-of-type {\n",
       "        vertical-align: middle;\n",
       "    }\n",
       "\n",
       "    .dataframe tbody tr th {\n",
       "        vertical-align: top;\n",
       "    }\n",
       "\n",
       "    .dataframe thead th {\n",
       "        text-align: right;\n",
       "    }\n",
       "</style>\n",
       "<table border=\"1\" class=\"dataframe\">\n",
       "  <thead>\n",
       "    <tr style=\"text-align: right;\">\n",
       "      <th></th>\n",
       "      <th>Var1</th>\n",
       "      <th>Var2</th>\n",
       "      <th>Var3</th>\n",
       "      <th>Var4</th>\n",
       "      <th>Var5</th>\n",
       "      <th>Var6</th>\n",
       "      <th>Var7</th>\n",
       "      <th>Var8</th>\n",
       "      <th>Var9</th>\n",
       "      <th>Var10</th>\n",
       "      <th>...</th>\n",
       "      <th>Var222</th>\n",
       "      <th>Var223</th>\n",
       "      <th>Var224</th>\n",
       "      <th>Var225</th>\n",
       "      <th>Var226</th>\n",
       "      <th>Var227</th>\n",
       "      <th>Var228</th>\n",
       "      <th>Var229</th>\n",
       "      <th>Var230</th>\n",
       "      <th>Class</th>\n",
       "    </tr>\n",
       "  </thead>\n",
       "  <tbody>\n",
       "    <tr>\n",
       "      <th>0</th>\n",
       "      <td>NaN</td>\n",
       "      <td>0.0</td>\n",
       "      <td>0.0</td>\n",
       "      <td>NaN</td>\n",
       "      <td>NaN</td>\n",
       "      <td>NaN</td>\n",
       "      <td>NaN</td>\n",
       "      <td>NaN</td>\n",
       "      <td>NaN</td>\n",
       "      <td>NaN</td>\n",
       "      <td>...</td>\n",
       "      <td>h2riDjd</td>\n",
       "      <td>LM8l689qOp</td>\n",
       "      <td>NaN</td>\n",
       "      <td>NaN</td>\n",
       "      <td>szEZ</td>\n",
       "      <td>RAYp</td>\n",
       "      <td>F2FyR07IdsN7I</td>\n",
       "      <td>NaN</td>\n",
       "      <td>NaN</td>\n",
       "      <td>-1</td>\n",
       "    </tr>\n",
       "    <tr>\n",
       "      <th>1</th>\n",
       "      <td>NaN</td>\n",
       "      <td>NaN</td>\n",
       "      <td>NaN</td>\n",
       "      <td>0.0</td>\n",
       "      <td>NaN</td>\n",
       "      <td>NaN</td>\n",
       "      <td>NaN</td>\n",
       "      <td>NaN</td>\n",
       "      <td>NaN</td>\n",
       "      <td>NaN</td>\n",
       "      <td>...</td>\n",
       "      <td>BG5Rt2K</td>\n",
       "      <td>NaN</td>\n",
       "      <td>NaN</td>\n",
       "      <td>NaN</td>\n",
       "      <td>PM2D</td>\n",
       "      <td>RAYp</td>\n",
       "      <td>F2FyR07IdsN7I</td>\n",
       "      <td>NaN</td>\n",
       "      <td>NaN</td>\n",
       "      <td>-1</td>\n",
       "    </tr>\n",
       "    <tr>\n",
       "      <th>2</th>\n",
       "      <td>NaN</td>\n",
       "      <td>NaN</td>\n",
       "      <td>NaN</td>\n",
       "      <td>NaN</td>\n",
       "      <td>NaN</td>\n",
       "      <td>2401.0</td>\n",
       "      <td>0.0</td>\n",
       "      <td>NaN</td>\n",
       "      <td>NaN</td>\n",
       "      <td>NaN</td>\n",
       "      <td>...</td>\n",
       "      <td>NKvz4Af</td>\n",
       "      <td>LM8l689qOp</td>\n",
       "      <td>NaN</td>\n",
       "      <td>kG3k</td>\n",
       "      <td>WqMG</td>\n",
       "      <td>RAYp</td>\n",
       "      <td>F2FyR07IdsN7I</td>\n",
       "      <td>NaN</td>\n",
       "      <td>NaN</td>\n",
       "      <td>-1</td>\n",
       "    </tr>\n",
       "    <tr>\n",
       "      <th>3</th>\n",
       "      <td>NaN</td>\n",
       "      <td>NaN</td>\n",
       "      <td>NaN</td>\n",
       "      <td>NaN</td>\n",
       "      <td>NaN</td>\n",
       "      <td>889.0</td>\n",
       "      <td>7.0</td>\n",
       "      <td>NaN</td>\n",
       "      <td>NaN</td>\n",
       "      <td>NaN</td>\n",
       "      <td>...</td>\n",
       "      <td>EXUR6zD</td>\n",
       "      <td>LM8l689qOp</td>\n",
       "      <td>NaN</td>\n",
       "      <td>ELof</td>\n",
       "      <td>453m</td>\n",
       "      <td>RAYp</td>\n",
       "      <td>55YFVY9</td>\n",
       "      <td>NaN</td>\n",
       "      <td>NaN</td>\n",
       "      <td>-1</td>\n",
       "    </tr>\n",
       "    <tr>\n",
       "      <th>4</th>\n",
       "      <td>NaN</td>\n",
       "      <td>NaN</td>\n",
       "      <td>NaN</td>\n",
       "      <td>NaN</td>\n",
       "      <td>NaN</td>\n",
       "      <td>1267.0</td>\n",
       "      <td>14.0</td>\n",
       "      <td>NaN</td>\n",
       "      <td>NaN</td>\n",
       "      <td>NaN</td>\n",
       "      <td>...</td>\n",
       "      <td>savS4bQ</td>\n",
       "      <td>LM8l689qOp</td>\n",
       "      <td>NaN</td>\n",
       "      <td>xG3x</td>\n",
       "      <td>TNEC</td>\n",
       "      <td>nIGXDli</td>\n",
       "      <td>F2FyR07IdsN7I</td>\n",
       "      <td>mj86</td>\n",
       "      <td>NaN</td>\n",
       "      <td>-1</td>\n",
       "    </tr>\n",
       "  </tbody>\n",
       "</table>\n",
       "<p>5 rows × 231 columns</p>\n",
       "</div>"
      ],
      "text/plain": [
       "   Var1  Var2  Var3  Var4  Var5    Var6  Var7  Var8  Var9  Var10  ...    \\\n",
       "0   NaN   0.0   0.0   NaN   NaN     NaN   NaN   NaN   NaN    NaN  ...     \n",
       "1   NaN   NaN   NaN   0.0   NaN     NaN   NaN   NaN   NaN    NaN  ...     \n",
       "2   NaN   NaN   NaN   NaN   NaN  2401.0   0.0   NaN   NaN    NaN  ...     \n",
       "3   NaN   NaN   NaN   NaN   NaN   889.0   7.0   NaN   NaN    NaN  ...     \n",
       "4   NaN   NaN   NaN   NaN   NaN  1267.0  14.0   NaN   NaN    NaN  ...     \n",
       "\n",
       "    Var222      Var223  Var224  Var225  Var226   Var227         Var228  \\\n",
       "0  h2riDjd  LM8l689qOp     NaN     NaN    szEZ     RAYp  F2FyR07IdsN7I   \n",
       "1  BG5Rt2K         NaN     NaN     NaN    PM2D     RAYp  F2FyR07IdsN7I   \n",
       "2  NKvz4Af  LM8l689qOp     NaN    kG3k    WqMG     RAYp  F2FyR07IdsN7I   \n",
       "3  EXUR6zD  LM8l689qOp     NaN    ELof    453m     RAYp        55YFVY9   \n",
       "4  savS4bQ  LM8l689qOp     NaN    xG3x    TNEC  nIGXDli  F2FyR07IdsN7I   \n",
       "\n",
       "   Var229  Var230  Class  \n",
       "0     NaN     NaN     -1  \n",
       "1     NaN     NaN     -1  \n",
       "2     NaN     NaN     -1  \n",
       "3     NaN     NaN     -1  \n",
       "4    mj86     NaN     -1  \n",
       "\n",
       "[5 rows x 231 columns]"
      ]
     },
     "execution_count": 5,
     "metadata": {},
     "output_type": "execute_result"
    }
   ],
   "source": [
    "print data.shape\n",
    "data.head()"
   ]
  },
  {
   "cell_type": "markdown",
   "metadata": {},
   "source": [
    "__Удалим пустые и константные столбцы, все равно толку от них не будет__"
   ]
  },
  {
   "cell_type": "code",
   "execution_count": 6,
   "metadata": {
    "scrolled": true
   },
   "outputs": [
    {
     "name": "stdout",
     "output_type": "stream",
     "text": [
      "Удаляем столбцы Const ['Var118', 'Var191', 'Var213', 'Var215', 'Var224']\n"
     ]
    }
   ],
   "source": [
    "#удаляем пустые столбцы\n",
    "data.dropna(axis=1, how='all', inplace=True)\n",
    "#удаляем константные столбцы\n",
    "const_columns = list()\n",
    "for x in data.columns:\n",
    "    if (len(data[x].value_counts())==1):\n",
    "        const_columns.append(x)\n",
    "\n",
    "print 'Удаляем столбцы Const', const_columns\n",
    "data.drop(const_columns, axis=1, inplace=True)   "
   ]
  },
  {
   "cell_type": "code",
   "execution_count": 7,
   "metadata": {},
   "outputs": [
    {
     "name": "stdout",
     "output_type": "stream",
     "text": [
      "(26800, 208)\n"
     ]
    },
    {
     "data": {
      "text/html": [
       "<div>\n",
       "<style scoped>\n",
       "    .dataframe tbody tr th:only-of-type {\n",
       "        vertical-align: middle;\n",
       "    }\n",
       "\n",
       "    .dataframe tbody tr th {\n",
       "        vertical-align: top;\n",
       "    }\n",
       "\n",
       "    .dataframe thead th {\n",
       "        text-align: right;\n",
       "    }\n",
       "</style>\n",
       "<table border=\"1\" class=\"dataframe\">\n",
       "  <thead>\n",
       "    <tr style=\"text-align: right;\">\n",
       "      <th></th>\n",
       "      <th>Var1</th>\n",
       "      <th>Var2</th>\n",
       "      <th>Var3</th>\n",
       "      <th>Var4</th>\n",
       "      <th>Var5</th>\n",
       "      <th>Var6</th>\n",
       "      <th>Var7</th>\n",
       "      <th>Var9</th>\n",
       "      <th>Var10</th>\n",
       "      <th>Var11</th>\n",
       "      <th>...</th>\n",
       "      <th>Var220</th>\n",
       "      <th>Var221</th>\n",
       "      <th>Var222</th>\n",
       "      <th>Var223</th>\n",
       "      <th>Var225</th>\n",
       "      <th>Var226</th>\n",
       "      <th>Var227</th>\n",
       "      <th>Var228</th>\n",
       "      <th>Var229</th>\n",
       "      <th>Class</th>\n",
       "    </tr>\n",
       "  </thead>\n",
       "  <tbody>\n",
       "    <tr>\n",
       "      <th>0</th>\n",
       "      <td>NaN</td>\n",
       "      <td>0.0</td>\n",
       "      <td>0.0</td>\n",
       "      <td>NaN</td>\n",
       "      <td>NaN</td>\n",
       "      <td>NaN</td>\n",
       "      <td>NaN</td>\n",
       "      <td>NaN</td>\n",
       "      <td>NaN</td>\n",
       "      <td>8.0</td>\n",
       "      <td>...</td>\n",
       "      <td>IS7V5Pv</td>\n",
       "      <td>oslk</td>\n",
       "      <td>h2riDjd</td>\n",
       "      <td>LM8l689qOp</td>\n",
       "      <td>NaN</td>\n",
       "      <td>szEZ</td>\n",
       "      <td>RAYp</td>\n",
       "      <td>F2FyR07IdsN7I</td>\n",
       "      <td>NaN</td>\n",
       "      <td>-1</td>\n",
       "    </tr>\n",
       "    <tr>\n",
       "      <th>1</th>\n",
       "      <td>NaN</td>\n",
       "      <td>NaN</td>\n",
       "      <td>NaN</td>\n",
       "      <td>0.0</td>\n",
       "      <td>NaN</td>\n",
       "      <td>NaN</td>\n",
       "      <td>NaN</td>\n",
       "      <td>NaN</td>\n",
       "      <td>NaN</td>\n",
       "      <td>NaN</td>\n",
       "      <td>...</td>\n",
       "      <td>Y578iqZ</td>\n",
       "      <td>oslk</td>\n",
       "      <td>BG5Rt2K</td>\n",
       "      <td>NaN</td>\n",
       "      <td>NaN</td>\n",
       "      <td>PM2D</td>\n",
       "      <td>RAYp</td>\n",
       "      <td>F2FyR07IdsN7I</td>\n",
       "      <td>NaN</td>\n",
       "      <td>-1</td>\n",
       "    </tr>\n",
       "    <tr>\n",
       "      <th>2</th>\n",
       "      <td>NaN</td>\n",
       "      <td>NaN</td>\n",
       "      <td>NaN</td>\n",
       "      <td>NaN</td>\n",
       "      <td>NaN</td>\n",
       "      <td>2401.0</td>\n",
       "      <td>0.0</td>\n",
       "      <td>NaN</td>\n",
       "      <td>NaN</td>\n",
       "      <td>NaN</td>\n",
       "      <td>...</td>\n",
       "      <td>KtBOw16</td>\n",
       "      <td>oslk</td>\n",
       "      <td>NKvz4Af</td>\n",
       "      <td>LM8l689qOp</td>\n",
       "      <td>kG3k</td>\n",
       "      <td>WqMG</td>\n",
       "      <td>RAYp</td>\n",
       "      <td>F2FyR07IdsN7I</td>\n",
       "      <td>NaN</td>\n",
       "      <td>-1</td>\n",
       "    </tr>\n",
       "    <tr>\n",
       "      <th>3</th>\n",
       "      <td>NaN</td>\n",
       "      <td>NaN</td>\n",
       "      <td>NaN</td>\n",
       "      <td>NaN</td>\n",
       "      <td>NaN</td>\n",
       "      <td>889.0</td>\n",
       "      <td>7.0</td>\n",
       "      <td>NaN</td>\n",
       "      <td>NaN</td>\n",
       "      <td>NaN</td>\n",
       "      <td>...</td>\n",
       "      <td>Nvc6w_1</td>\n",
       "      <td>oslk</td>\n",
       "      <td>EXUR6zD</td>\n",
       "      <td>LM8l689qOp</td>\n",
       "      <td>ELof</td>\n",
       "      <td>453m</td>\n",
       "      <td>RAYp</td>\n",
       "      <td>55YFVY9</td>\n",
       "      <td>NaN</td>\n",
       "      <td>-1</td>\n",
       "    </tr>\n",
       "    <tr>\n",
       "      <th>4</th>\n",
       "      <td>NaN</td>\n",
       "      <td>NaN</td>\n",
       "      <td>NaN</td>\n",
       "      <td>NaN</td>\n",
       "      <td>NaN</td>\n",
       "      <td>1267.0</td>\n",
       "      <td>14.0</td>\n",
       "      <td>NaN</td>\n",
       "      <td>NaN</td>\n",
       "      <td>NaN</td>\n",
       "      <td>...</td>\n",
       "      <td>r5hLqa2</td>\n",
       "      <td>d0EEeJi</td>\n",
       "      <td>savS4bQ</td>\n",
       "      <td>LM8l689qOp</td>\n",
       "      <td>xG3x</td>\n",
       "      <td>TNEC</td>\n",
       "      <td>nIGXDli</td>\n",
       "      <td>F2FyR07IdsN7I</td>\n",
       "      <td>mj86</td>\n",
       "      <td>-1</td>\n",
       "    </tr>\n",
       "  </tbody>\n",
       "</table>\n",
       "<p>5 rows × 208 columns</p>\n",
       "</div>"
      ],
      "text/plain": [
       "   Var1  Var2  Var3  Var4  Var5    Var6  Var7  Var9  Var10  Var11  ...    \\\n",
       "0   NaN   0.0   0.0   NaN   NaN     NaN   NaN   NaN    NaN    8.0  ...     \n",
       "1   NaN   NaN   NaN   0.0   NaN     NaN   NaN   NaN    NaN    NaN  ...     \n",
       "2   NaN   NaN   NaN   NaN   NaN  2401.0   0.0   NaN    NaN    NaN  ...     \n",
       "3   NaN   NaN   NaN   NaN   NaN   889.0   7.0   NaN    NaN    NaN  ...     \n",
       "4   NaN   NaN   NaN   NaN   NaN  1267.0  14.0   NaN    NaN    NaN  ...     \n",
       "\n",
       "    Var220   Var221   Var222      Var223  Var225  Var226   Var227  \\\n",
       "0  IS7V5Pv     oslk  h2riDjd  LM8l689qOp     NaN    szEZ     RAYp   \n",
       "1  Y578iqZ     oslk  BG5Rt2K         NaN     NaN    PM2D     RAYp   \n",
       "2  KtBOw16     oslk  NKvz4Af  LM8l689qOp    kG3k    WqMG     RAYp   \n",
       "3  Nvc6w_1     oslk  EXUR6zD  LM8l689qOp    ELof    453m     RAYp   \n",
       "4  r5hLqa2  d0EEeJi  savS4bQ  LM8l689qOp    xG3x    TNEC  nIGXDli   \n",
       "\n",
       "          Var228  Var229  Class  \n",
       "0  F2FyR07IdsN7I     NaN     -1  \n",
       "1  F2FyR07IdsN7I     NaN     -1  \n",
       "2  F2FyR07IdsN7I     NaN     -1  \n",
       "3        55YFVY9     NaN     -1  \n",
       "4  F2FyR07IdsN7I    mj86     -1  \n",
       "\n",
       "[5 rows x 208 columns]"
      ]
     },
     "execution_count": 7,
     "metadata": {},
     "output_type": "execute_result"
    }
   ],
   "source": [
    "print data.shape\n",
    "data.head()"
   ]
  },
  {
   "cell_type": "code",
   "execution_count": 8,
   "metadata": {},
   "outputs": [],
   "source": [
    "#скорректируем коллекции, оставив только те столбцы, которые все еще есть в данных\n",
    "#отсортируем их, учитывая, что сортировка идет по числам xxx после Var в 'Varxxx'\n",
    "cat_columns = list(set(cat_columns).intersection(set(data.columns)))\n",
    "cat_columns.sort(cmp=lambda x, y: 1 if (int(x[3:]) > int(y[3:])) else -1 if (int(x[3:]) < int(y[3:])) else 0)\n",
    "\n",
    "num_columns = list(set(num_columns).intersection(set(data.columns)))\n",
    "num_columns.sort(cmp=lambda x, y: 1 if (int(x[3:]) > int(y[3:])) else -1 if (int(x[3:]) < int(y[3:])) else 0)"
   ]
  },
  {
   "cell_type": "markdown",
   "metadata": {},
   "source": [
    "__Преобразуем категориальные признаки в числовые__"
   ]
  },
  {
   "cell_type": "code",
   "execution_count": 9,
   "metadata": {},
   "outputs": [
    {
     "name": "stdout",
     "output_type": "stream",
     "text": [
      "['Var208', 'Var218', 'Var211', 'Var201', 'Var225', 'Var194', 'Var196', 'Var205', 'Var223', 'Var203', 'Var229', 'Var210', 'Var227', 'Var221', 'Var207', 'Var206', 'Var219', 'Var195', 'Var226', 'Var228', 'Var193', 'Var212']\n",
      "Var208       2\n",
      "Var218       2\n",
      "Var211       2\n",
      "Var201       2\n",
      "Var225       3\n",
      "Var194       3\n",
      "Var196       3\n",
      "Var205       3\n",
      "Var223       4\n",
      "Var203       4\n",
      "Var229       4\n",
      "Var210       6\n",
      "Var227       7\n",
      "Var221       7\n",
      "Var207      14\n",
      "Var206      21\n",
      "Var219      21\n",
      "Var195      22\n",
      "Var226      23\n",
      "Var228      29\n",
      "Var193      48\n",
      "Var212      75\n",
      "Var204     100\n",
      "Var197     210\n",
      "Var192     340\n",
      "Var216    1536\n",
      "Var220    3237\n",
      "Var222    3237\n",
      "Var198    3237\n",
      "Var199    3361\n",
      "Var202    5125\n",
      "Var217    9933\n",
      "Var214    9942\n",
      "Var200    9942\n",
      "Name: unique, dtype: object\n"
     ]
    }
   ],
   "source": [
    "#как мы уже видели раньше, у нас было очень много категориальных столбцов с диким количеством уникальных значений\n",
    "#попробуем их убрать из обучения\n",
    "max_uniq_values = 100 #вообще говоря, это тоже подбираемый параметр, но на уровне base-line ограничимся просто разумным значением\n",
    "cat_uniq_values = data[cat_columns].describe().iloc[1,:].sort_values() \n",
    "cat_cut_columns = cat_uniq_values[cat_uniq_values < max_uniq_values].index.tolist()\n",
    "\n",
    "print cat_cut_columns\n",
    "print cat_uniq_values"
   ]
  },
  {
   "cell_type": "code",
   "execution_count": 10,
   "metadata": {
    "scrolled": false
   },
   "outputs": [
    {
     "name": "stdout",
     "output_type": "stream",
     "text": [
      "Категориальные столбцы, содержащие NaN: ['Var192', 'Var194', 'Var197', 'Var199', 'Var200', 'Var201', 'Var202', 'Var203', 'Var205', 'Var206', 'Var208', 'Var214', 'Var217', 'Var218', 'Var219', 'Var223', 'Var225', 'Var229']\n"
     ]
    }
   ],
   "source": [
    "#проверим, есть ли категориальные признаки с пропусками в значениях\n",
    "cat_hasnan_columns = list()\n",
    "for x in data[cat_columns]:\n",
    "    if data[x].isnull().max():\n",
    "        cat_hasnan_columns.append(x)\n",
    "print 'Категориальные столбцы, содержащие NaN: %s' % cat_hasnan_columns"
   ]
  },
  {
   "cell_type": "code",
   "execution_count": 11,
   "metadata": {},
   "outputs": [
    {
     "name": "stderr",
     "output_type": "stream",
     "text": [
      "C:\\Users\\Anton\\Anaconda2\\lib\\site-packages\\pandas\\core\\frame.py:3035: SettingWithCopyWarning: \n",
      "A value is trying to be set on a copy of a slice from a DataFrame\n",
      "\n",
      "See the caveats in the documentation: http://pandas.pydata.org/pandas-docs/stable/indexing.html#indexing-view-versus-copy\n",
      "  downcast=downcast, **kwargs)\n"
     ]
    },
    {
     "name": "stdout",
     "output_type": "stream",
     "text": [
      "(26800L, 316L)\n"
     ]
    }
   ],
   "source": [
    "#займемся кодированием признаков, как это было показано в курсе \n",
    "#Предобработка данных и логистическая регрессия для задачи бинарной классификации (Course2Week3)\n",
    "\n",
    "Xcat = data[cat_cut_columns] #cat_columns\n",
    "Xcat.fillna('NA', inplace=True) #Заменим NaN значения на некое новое значение атрибута (надо еще убедиться что такого нет...)\n",
    "Xcat = Xcat.applymap(lambda x:str(x))\n",
    "Xcat = pd.DataFrame(Xcat)\n",
    "\n",
    "dv = fe.DictVectorizer(sparse = False)\n",
    "cat_encoded = dv.fit_transform(Xcat.T.to_dict().values())\n",
    "\n",
    "print cat_encoded.shape #если не убирать признаки с большим количеством уникальных значений, то получается 50713 столбцов"
   ]
  },
  {
   "cell_type": "markdown",
   "metadata": {},
   "source": [
    "__Нормируем числовые признаки и заменим значения NaN__"
   ]
  },
  {
   "cell_type": "code",
   "execution_count": 12,
   "metadata": {
    "scrolled": true
   },
   "outputs": [
    {
     "data": {
      "text/html": [
       "<div>\n",
       "<style scoped>\n",
       "    .dataframe tbody tr th:only-of-type {\n",
       "        vertical-align: middle;\n",
       "    }\n",
       "\n",
       "    .dataframe tbody tr th {\n",
       "        vertical-align: top;\n",
       "    }\n",
       "\n",
       "    .dataframe thead th {\n",
       "        text-align: right;\n",
       "    }\n",
       "</style>\n",
       "<table border=\"1\" class=\"dataframe\">\n",
       "  <thead>\n",
       "    <tr style=\"text-align: right;\">\n",
       "      <th></th>\n",
       "      <th>Var1</th>\n",
       "      <th>Var2</th>\n",
       "      <th>Var3</th>\n",
       "      <th>Var4</th>\n",
       "      <th>Var5</th>\n",
       "      <th>Var6</th>\n",
       "      <th>Var7</th>\n",
       "      <th>Var9</th>\n",
       "      <th>Var10</th>\n",
       "      <th>Var11</th>\n",
       "      <th>...</th>\n",
       "      <th>Var181</th>\n",
       "      <th>Var182</th>\n",
       "      <th>Var183</th>\n",
       "      <th>Var184</th>\n",
       "      <th>Var186</th>\n",
       "      <th>Var187</th>\n",
       "      <th>Var188</th>\n",
       "      <th>Var189</th>\n",
       "      <th>Var190</th>\n",
       "      <th>Class</th>\n",
       "    </tr>\n",
       "  </thead>\n",
       "  <tbody>\n",
       "    <tr>\n",
       "      <th>0</th>\n",
       "      <td>1.016715e-16</td>\n",
       "      <td>-0.038208</td>\n",
       "      <td>-0.159295</td>\n",
       "      <td>7.121659e-17</td>\n",
       "      <td>-7.401487e-17</td>\n",
       "      <td>-3.894898e-17</td>\n",
       "      <td>-5.709958e-16</td>\n",
       "      <td>-9.053958e-18</td>\n",
       "      <td>-3.585545e-17</td>\n",
       "      <td>-0.214707</td>\n",
       "      <td>...</td>\n",
       "      <td>-9.322133e-16</td>\n",
       "      <td>-1.874740e-16</td>\n",
       "      <td>-0.361547</td>\n",
       "      <td>-0.18284</td>\n",
       "      <td>-1.445665e-16</td>\n",
       "      <td>1.261617e-17</td>\n",
       "      <td>-1.284743</td>\n",
       "      <td>1.037569</td>\n",
       "      <td>-1.684699e-16</td>\n",
       "      <td>-1</td>\n",
       "    </tr>\n",
       "  </tbody>\n",
       "</table>\n",
       "<p>1 rows × 174 columns</p>\n",
       "</div>"
      ],
      "text/plain": [
       "           Var1      Var2      Var3          Var4          Var5          Var6  \\\n",
       "0  1.016715e-16 -0.038208 -0.159295  7.121659e-17 -7.401487e-17 -3.894898e-17   \n",
       "\n",
       "           Var7          Var9         Var10     Var11  ...          Var181  \\\n",
       "0 -5.709958e-16 -9.053958e-18 -3.585545e-17 -0.214707  ...   -9.322133e-16   \n",
       "\n",
       "         Var182    Var183   Var184        Var186        Var187    Var188  \\\n",
       "0 -1.874740e-16 -0.361547 -0.18284 -1.445665e-16  1.261617e-17 -1.284743   \n",
       "\n",
       "     Var189        Var190  Class  \n",
       "0  1.037569 -1.684699e-16     -1  \n",
       "\n",
       "[1 rows x 174 columns]"
      ]
     },
     "execution_count": 12,
     "metadata": {},
     "output_type": "execute_result"
    }
   ],
   "source": [
    "#нормируем данные, чтобы гдадиент точнее указывал на локальный минимум ошибки \n",
    "#(см. 3-2.Prakticheskie_rekomendacii_po_linejnym_modelyam.pdf)\n",
    "data_num_norm = data[num_columns].copy()\n",
    "for x in data_num_norm.columns:\n",
    "    data_num_norm[x] = (data[x] - data[x].dropna().mean())/data[x].dropna().std()\n",
    "\n",
    "#заполним неопределенные значения NaN средними по признаку\n",
    "for x in data_num_norm[num_columns]:\n",
    "    data_num_norm[x].fillna(data_num_norm[x].dropna().mean(), inplace=True)\n",
    "\n",
    "data_num_norm = pd.concat((data_num_norm, data.Class), axis=1)\n",
    "data_num_norm.head(1)"
   ]
  },
  {
   "cell_type": "markdown",
   "metadata": {},
   "source": [
    "__Объединим значения числовых и закодированных категориальных признаков в общий набор данных__"
   ]
  },
  {
   "cell_type": "code",
   "execution_count": 13,
   "metadata": {
    "scrolled": false
   },
   "outputs": [
    {
     "data": {
      "text/html": [
       "<div>\n",
       "<style scoped>\n",
       "    .dataframe tbody tr th:only-of-type {\n",
       "        vertical-align: middle;\n",
       "    }\n",
       "\n",
       "    .dataframe tbody tr th {\n",
       "        vertical-align: top;\n",
       "    }\n",
       "\n",
       "    .dataframe thead th {\n",
       "        text-align: right;\n",
       "    }\n",
       "</style>\n",
       "<table border=\"1\" class=\"dataframe\">\n",
       "  <thead>\n",
       "    <tr style=\"text-align: right;\">\n",
       "      <th></th>\n",
       "      <th>Var1</th>\n",
       "      <th>Var2</th>\n",
       "      <th>Var3</th>\n",
       "      <th>Var4</th>\n",
       "      <th>Var5</th>\n",
       "      <th>Var6</th>\n",
       "      <th>Var7</th>\n",
       "      <th>Var9</th>\n",
       "      <th>Var10</th>\n",
       "      <th>Var11</th>\n",
       "      <th>...</th>\n",
       "      <th>Cat306</th>\n",
       "      <th>Cat307</th>\n",
       "      <th>Cat308</th>\n",
       "      <th>Cat309</th>\n",
       "      <th>Cat310</th>\n",
       "      <th>Cat311</th>\n",
       "      <th>Cat312</th>\n",
       "      <th>Cat313</th>\n",
       "      <th>Cat314</th>\n",
       "      <th>Cat315</th>\n",
       "    </tr>\n",
       "  </thead>\n",
       "  <tbody>\n",
       "    <tr>\n",
       "      <th>0</th>\n",
       "      <td>1.016715e-16</td>\n",
       "      <td>-0.038208</td>\n",
       "      <td>-0.159295</td>\n",
       "      <td>7.121659e-17</td>\n",
       "      <td>-7.401487e-17</td>\n",
       "      <td>-3.894898e-17</td>\n",
       "      <td>-5.709958e-16</td>\n",
       "      <td>-9.053958e-18</td>\n",
       "      <td>-3.585545e-17</td>\n",
       "      <td>-0.214707</td>\n",
       "      <td>...</td>\n",
       "      <td>0.0</td>\n",
       "      <td>0.0</td>\n",
       "      <td>0.0</td>\n",
       "      <td>0.0</td>\n",
       "      <td>0.0</td>\n",
       "      <td>1.0</td>\n",
       "      <td>0.0</td>\n",
       "      <td>0.0</td>\n",
       "      <td>0.0</td>\n",
       "      <td>0.0</td>\n",
       "    </tr>\n",
       "  </tbody>\n",
       "</table>\n",
       "<p>1 rows × 489 columns</p>\n",
       "</div>"
      ],
      "text/plain": [
       "           Var1      Var2      Var3          Var4          Var5          Var6  \\\n",
       "0  1.016715e-16 -0.038208 -0.159295  7.121659e-17 -7.401487e-17 -3.894898e-17   \n",
       "\n",
       "           Var7          Var9         Var10     Var11   ...    Cat306  Cat307  \\\n",
       "0 -5.709958e-16 -9.053958e-18 -3.585545e-17 -0.214707   ...       0.0     0.0   \n",
       "\n",
       "   Cat308  Cat309  Cat310  Cat311  Cat312  Cat313  Cat314  Cat315  \n",
       "0     0.0     0.0     0.0     1.0     0.0     0.0     0.0     0.0  \n",
       "\n",
       "[1 rows x 489 columns]"
      ]
     },
     "execution_count": 13,
     "metadata": {},
     "output_type": "execute_result"
    }
   ],
   "source": [
    "#именуем столбцы закодированных категориальных признаков\n",
    "cat_enc_columns = ['Cat'+ str(x) for x in range(0,cat_encoded.shape[1])] \n",
    "#и создаем для них DataFrame\n",
    "cat_enc_df = pd.DataFrame(cat_encoded, columns = cat_enc_columns)\n",
    "#объединяем числовые и категориальные признаки\n",
    "X = pd.concat((data_num_norm.drop('Class', axis=1),cat_enc_df), axis=1)\n",
    "y = data_num_norm.Class\n",
    "\n",
    "X.head(1)"
   ]
  },
  {
   "cell_type": "markdown",
   "metadata": {},
   "source": [
    "###  Построение моделей"
   ]
  },
  {
   "cell_type": "markdown",
   "metadata": {},
   "source": [
    "Для оценки моделей будем использовать кросс-валидацию по методу StratifiedKFold"
   ]
  },
  {
   "cell_type": "code",
   "execution_count": 21,
   "metadata": {},
   "outputs": [],
   "source": [
    "#skf = StratifiedKFold(n_splits = 3, shuffle = False, random_state = 0)\n",
    "skf = cross_validation.StratifiedKFold(y, n_folds = 3, shuffle = True, random_state = 0)"
   ]
  },
  {
   "cell_type": "markdown",
   "metadata": {},
   "source": [
    "### 1. Линейная модель"
   ]
  },
  {
   "cell_type": "code",
   "execution_count": 22,
   "metadata": {},
   "outputs": [
    {
     "name": "stdout",
     "output_type": "stream",
     "text": [
      "Предсказано 10687 объектов оттока\n"
     ]
    }
   ],
   "source": [
    "lm_ridge = lm.RidgeClassifier(class_weight='balanced') #к сожалению, без balanced количество прогноза оттока всего 4 объекта\n",
    "lm_ridge.fit(X,y)\n",
    "print 'Предсказано %i объектов оттока' % len([x for x in lm_ridge.predict(X) if x == 1])"
   ]
  },
  {
   "cell_type": "code",
   "execution_count": 23,
   "metadata": {
    "scrolled": true
   },
   "outputs": [
    {
     "name": "stdout",
     "output_type": "stream",
     "text": [
      "make_scorer(roc_auc_score, needs_threshold=True) 0.6625263844298529\n",
      "make_scorer(f1_score) 0.19503050238960692\n",
      "make_scorer(precision_score) 0.11591664133345563\n",
      "make_scorer(recall_score) 0.6143438415315398\n"
     ]
    }
   ],
   "source": [
    "for s in [scorer.roc_auc_scorer, scorer.f1_scorer,  scorer.precision_scorer,  scorer.recall_scorer]:\n",
    "    print s, cross_val_score(estimator = lm_ridge, X = X, y = y, scoring = s, cv = skf).mean()\n",
    "    "
   ]
  },
  {
   "cell_type": "markdown",
   "metadata": {},
   "source": [
    "_Для сравнения, только числовые признаки:_   \n",
    "make_scorer(roc_auc_score, needs_threshold=True) 0.4925389510642966   \n",
    "make_scorer(f1_score) 0.08059739700603331   \n",
    "make_scorer(precision_score) 0.04766081871345029   \n",
    "make_scorer(recall_score) 0.2619047619047619   "
   ]
  },
  {
   "cell_type": "markdown",
   "metadata": {},
   "source": [
    "### 2. Случайный лес"
   ]
  },
  {
   "cell_type": "code",
   "execution_count": 24,
   "metadata": {},
   "outputs": [],
   "source": [
    "rfc = es.RandomForestClassifier(random_state=0, class_weight='balanced')"
   ]
  },
  {
   "cell_type": "code",
   "execution_count": 25,
   "metadata": {
    "scrolled": true
   },
   "outputs": [
    {
     "name": "stdout",
     "output_type": "stream",
     "text": [
      "make_scorer(roc_auc_score, needs_threshold=True) 0.5869036321978011\n",
      "make_scorer(f1_score) 0.006934318117738318\n",
      "make_scorer(precision_score) 0.3452380952380952\n",
      "make_scorer(recall_score) 0.0035102817284174293\n"
     ]
    }
   ],
   "source": [
    "for s in [scorer.roc_auc_scorer, scorer.f1_scorer,  scorer.precision_scorer,  scorer.recall_scorer]:\n",
    "    print s, cross_val_score(estimator = rfc, X = X, y = y, scoring = s, cv = skf).mean()"
   ]
  },
  {
   "cell_type": "markdown",
   "metadata": {},
   "source": [
    "_Для сравнения, только числовые признаки:_    \n",
    "make_scorer(roc_auc_score, needs_threshold=True) 0.4544656572306342   \n",
    "make_scorer(f1_score) 0.0   \n",
    "make_scorer(precision_score) 0.0   \n",
    "make_scorer(recall_score) 0.0   "
   ]
  },
  {
   "cell_type": "markdown",
   "metadata": {},
   "source": [
    "### 3. Градиентный бустинг"
   ]
  },
  {
   "cell_type": "code",
   "execution_count": 26,
   "metadata": {},
   "outputs": [],
   "source": [
    "gbc =  es.GradientBoostingClassifier(random_state=0)"
   ]
  },
  {
   "cell_type": "code",
   "execution_count": 27,
   "metadata": {},
   "outputs": [
    {
     "name": "stdout",
     "output_type": "stream",
     "text": [
      "make_scorer(roc_auc_score, needs_threshold=True) 0.7310207951597607\n",
      "make_scorer(f1_score) 0.019496042186357802\n",
      "make_scorer(precision_score) 0.4101358411703239\n",
      "make_scorer(recall_score) 0.010028837153123773\n"
     ]
    }
   ],
   "source": [
    "for s in [scorer.roc_auc_scorer, scorer.f1_scorer,  scorer.precision_scorer,  scorer.recall_scorer]:\n",
    "    print s, cross_val_score(estimator = gbc, X = X, y = y, scoring = s, cv = skf).mean()"
   ]
  },
  {
   "cell_type": "markdown",
   "metadata": {},
   "source": [
    "_только числовые признаки:_   \n",
    "make_scorer(roc_auc_score, needs_threshold=True) 0.5071660815617827   \n",
    "make_scorer(f1_score) 0.0   \n",
    "make_scorer(precision_score) 0.0   \n",
    "make_scorer(recall_score) 0.0   "
   ]
  },
  {
   "cell_type": "markdown",
   "metadata": {},
   "source": [
    "### Выводы"
   ]
  },
  {
   "cell_type": "markdown",
   "metadata": {},
   "source": [
    "__Линейный классификатор:__   \n",
    "make_scorer(roc_auc_score, needs_threshold=True) 0.6703990960152332   \n",
    "__make_scorer(f1_score) 0.19992168247893316__   \n",
    "make_scorer(precision_score) 0.11890759404800112   \n",
    "__make_scorer(recall_score) 0.6273584764503976__   \n",
    "\n",
    "__Случайный лес:__   \n",
    "make_scorer(roc_auc_score, needs_threshold=True) 0.5963273579911893   \n",
    "make_scorer(f1_score) 0.0039375068283622845   \n",
    "make_scorer(precision_score) 0.14166666666666666   \n",
    "make_scorer(recall_score) 0.001996756112961483   \n",
    "\n",
    "__Градиентный бустинг:__   \n",
    "__make_scorer(roc_auc_score, needs_threshold=True) 0.7358515228926609__   \n",
    "make_scorer(f1_score) 0.026930388542004885   \n",
    "__make_scorer(precision_score) 0.4046474358974359__   \n",
    "make_scorer(recall_score) 0.013988514724673592   "
   ]
  },
  {
   "cell_type": "markdown",
   "metadata": {},
   "source": [
    "Среди классификаторов борьба идет только между линейным классификатором и градиентным бустингом. Случайный лес проигрывыает по всем параметрам. Как мы говорили, основной метрикой является ROC-AUC, а по ней с большим отрывом лидирует градиентный бустинг.\n",
    "Конечно, линейный классификатор выигрывает по полноте (recall), но при такой точности (prescision 0.11) вряд ли это реальное преимущество. Наоборот, градиентный бустинг показывает намного лучшую точность, но небольшую полноту.\n",
    "Все же, честно говоря, при таких абсолютных значениях (да можно даже по f-мере посмотреть), говорить о практической значимости результатов не приходится. Однозначно, надо заниматься оптимизацией модели, чтобы выбирать, лучшую модель из хороших, а не из плохих.\n",
    "\n",
    "\n",
    "Пока же вывод простой: побеждает градиейнтный бустинг, на втором месте линейный классификатор, на третьем случайный лес."
   ]
  }
 ],
 "metadata": {
  "kernelspec": {
   "display_name": "Python 2",
   "language": "python",
   "name": "python2"
  },
  "language_info": {
   "codemirror_mode": {
    "name": "ipython",
    "version": 2
   },
   "file_extension": ".py",
   "mimetype": "text/x-python",
   "name": "python",
   "nbconvert_exporter": "python",
   "pygments_lexer": "ipython2",
   "version": "2.7.14"
  }
 },
 "nbformat": 4,
 "nbformat_minor": 2
}
